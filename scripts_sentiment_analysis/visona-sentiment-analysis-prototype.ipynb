{
 "cells": [
  {
   "cell_type": "code",
   "execution_count": null,
   "id": "f352129f",
   "metadata": {
    "_cell_guid": "b1076dfc-b9ad-4769-8c92-a6c4dae69d19",
    "_uuid": "8f2839f25d086af736a60e9eeb907d3b93b6e0e5",
    "execution": {
     "iopub.execute_input": "2024-05-13T12:50:44.689482Z",
     "iopub.status.busy": "2024-05-13T12:50:44.688872Z",
     "iopub.status.idle": "2024-05-13T12:50:48.782689Z",
     "shell.execute_reply": "2024-05-13T12:50:48.781216Z"
    },
    "papermill": {
     "duration": 4.126753,
     "end_time": "2024-05-13T12:50:48.785906",
     "exception": false,
     "start_time": "2024-05-13T12:50:44.659153",
     "status": "completed"
    },
    "tags": []
   },
   "outputs": [],
   "source": [
    "\"\"\"\n",
    "visona-sentiment-analysis-prototype.ipynb\n",
    "Jonathan Visona\n",
    "CPSC 8985-02 - FA2024\n",
    "\"\"\"\n",
    "\n",
    "# utility imports\n",
    "    # https://docs.python.org/3/c-api/index.html\n",
    "\n",
    "#import string # unused?\n",
    "from string import punctuation as STR_punctuation\n",
    "import re as REGEX\n",
    "import warnings as WARN\n",
    "\n",
    "# visualization imports\n",
    "    # https://matplotlib.org/stable/api/index.html\n",
    "\n",
    "import matplotlib.pyplot as MPLTLIB_pyplt\n",
    "    # https://seaborn.pydata.org/api.html\n",
    "\n",
    "#import seaborn as sb # not used? I think defaults change matplotlib outputs\n",
    "\n",
    "# math and data science imports\n",
    "    # https://numpy.org/doc/2.1/reference/index.html\n",
    "    # https://pandas.pydata.org/docs/reference/index.html\n",
    "\n",
    "#import numpy as np # not used?\n",
    "import pandas as PNDS\n",
    "\n",
    "# nltk imports\n",
    "    # https://www.nltk.org/api/nltk.html\n",
    "\n",
    "from nltk.tokenize import word_tokenize as NLTK_word_tokenize\n",
    "from nltk.stem import LancasterStemmer as NLTK_lancaster_stemer\n",
    "from nltk.corpus import stopwords as NLTK_stopwords\n",
    "from nltk.stem.wordnet import WordNetLemmatizer as NLTK_wordnet_lemmatizer\n",
    "from nltk.probability import FreqDist as NLTK_freq_dist\n",
    "\n",
    "# sci-kit imports\n",
    "    # https://scikit-learn.org/stable/api/index.html\n",
    "\n",
    "from sklearn.metrics import accuracy_score\n",
    "#from sklearn.metrics import accuracy_score as SKLN_accuracy_score\n",
    "from sklearn.metrics import classification_report as SKLN_classification_report\n",
    "from sklearn.metrics import ConfusionMatrixDisplay as SKLN_confusion_matrix_display\n",
    "from sklearn.model_selection import train_test_split as SKLN_train_test_split\n",
    "from sklearn.linear_model import LogisticRegression as SKLN_logistic_regression\n",
    "from sklearn.ensemble import RandomForestClassifier as SKLN_random_forest_classifier\n",
    "from sklearn.feature_extraction.text import TfidfVectorizer as SKLN_tfidf_vectorizer\n",
    "from sklearn.tree import DecisionTreeClassifier as SKLN_decision_tree_classifier"
   ]
  },
  {
   "cell_type": "code",
   "execution_count": null,
   "id": "d14dd98a",
   "metadata": {
    "execution": {
     "iopub.execute_input": "2024-05-13T12:50:49.027005Z",
     "iopub.status.busy": "2024-05-13T12:50:49.026588Z",
     "iopub.status.idle": "2024-05-13T12:50:49.271570Z",
     "shell.execute_reply": "2024-05-13T12:50:49.269825Z"
    },
    "papermill": {
     "duration": 0.279106,
     "end_time": "2024-05-13T12:50:49.274568",
     "exception": false,
     "start_time": "2024-05-13T12:50:48.995462",
     "status": "completed"
    },
    "tags": []
   },
   "outputs": [],
   "source": [
    "# This data is provided by Kaggle at https://www.kaggle.com/datasets/abhi8923shriv/sentiment-analysis-dataset\n",
    "WARN_OFF = False # Turn off after finished debugging\n",
    "if( WARN_OFF ):\n",
    "    WARN.filterwarnings( 'ignore' )\n",
    "\n",
    "ENCODING = 'latin1'\n",
    "REL_PATH = '../data/'\n",
    "TRAIN_FILE = 'train.csv'\n",
    "TEST_FILE = 'test.csv'\n",
    "MAX_COLS = 20\n",
    "MAX_ROWS = 3_000_000\n",
    "HEAD_SIZE = 25\n",
    "\n",
    "PNDS.set_option( 'display.max_columns', MAX_COLS )\n",
    "PNDS.set_option( 'display.max_rows', MAX_ROWS )\n",
    "training_data = PNDS.read_csv( REL_PATH + TRAIN_FILE, encoding=ENCODING );\n",
    "test_data = PNDS.read_csv( REL_PATH + TEST_FILE, encoding=ENCODING );"
   ]
  },
  {
   "cell_type": "code",
   "execution_count": null,
   "id": "feacc225",
   "metadata": {
    "execution": {
     "iopub.execute_input": "2024-05-13T12:50:49.390655Z",
     "iopub.status.busy": "2024-05-13T12:50:49.389104Z",
     "iopub.status.idle": "2024-05-13T12:50:49.405271Z",
     "shell.execute_reply": "2024-05-13T12:50:49.404249Z"
    },
    "papermill": {
     "duration": 0.048371,
     "end_time": "2024-05-13T12:50:49.408063",
     "exception": false,
     "start_time": "2024-05-13T12:50:49.359692",
     "status": "completed"
    },
    "tags": []
   },
   "outputs": [],
   "source": [
    "# combine the training and teseting data\n",
    "dframe = PNDS.concat( [ training_data, test_data ] )\n",
    "#DEBUG print( f\"{type(dframe)=}, {len(dframe)=}\" )"
   ]
  },
  {
   "cell_type": "code",
   "execution_count": null,
   "id": "def1e7e3",
   "metadata": {
    "execution": {
     "iopub.execute_input": "2024-05-13T12:50:49.522521Z",
     "iopub.status.busy": "2024-05-13T12:50:49.521414Z",
     "iopub.status.idle": "2024-05-13T12:50:49.548194Z",
     "shell.execute_reply": "2024-05-13T12:50:49.547041Z"
    },
    "papermill": {
     "duration": 0.060335,
     "end_time": "2024-05-13T12:50:49.551343",
     "exception": false,
     "start_time": "2024-05-13T12:50:49.491008",
     "status": "completed"
    },
    "tags": []
   },
   "outputs": [],
   "source": [
    "# Show the top rows of the data\n",
    "dframe.head( n=HEAD_SIZE )"
   ]
  },
  {
   "cell_type": "code",
   "execution_count": null,
   "id": "694a7a12",
   "metadata": {},
   "outputs": [],
   "source": [
    "# Provide general information on dataset\n",
    "dframe.info( verbose=True )"
   ]
  },
  {
   "cell_type": "code",
   "execution_count": null,
   "id": "8d1d30f5",
   "metadata": {},
   "outputs": [],
   "source": [
    "# drop irrelevant data from dframe\n",
    "dframe = dframe.drop( columns=[ 'textID','Time of Tweet', 'Age of User', 'Country', 'Population -2020', 'Land Area (Km²)', 'Density (P/Km²)' ] )"
   ]
  },
  {
   "cell_type": "code",
   "execution_count": null,
   "id": "3390feb4",
   "metadata": {
    "execution": {
     "iopub.execute_input": "2024-05-13T12:50:49.665052Z",
     "iopub.status.busy": "2024-05-13T12:50:49.664652Z",
     "iopub.status.idle": "2024-05-13T12:50:49.721351Z",
     "shell.execute_reply": "2024-05-13T12:50:49.720032Z"
    },
    "papermill": {
     "duration": 0.089249,
     "end_time": "2024-05-13T12:50:49.724806",
     "exception": false,
     "start_time": "2024-05-13T12:50:49.635557",
     "status": "completed"
    },
    "tags": []
   },
   "outputs": [],
   "source": [
    "# peek at current cols\n",
    "column_list = dframe.columns.tolist()\n",
    "print( column_list )"
   ]
  },
  {
   "cell_type": "code",
   "execution_count": null,
   "id": "21ca2abc",
   "metadata": {},
   "outputs": [],
   "source": [
    "# Solve gaps in data by dropping NaNs on current Dataframe with counts pre- and post-process\n",
    "nan_count_per_column = dframe.isna().sum()\n",
    "print(nan_count_per_column)"
   ]
  },
  {
   "cell_type": "code",
   "execution_count": null,
   "id": "0a7fb8ae",
   "metadata": {
    "execution": {
     "iopub.execute_input": "2024-05-13T12:51:58.844397Z",
     "iopub.status.busy": "2024-05-13T12:51:58.842902Z",
     "iopub.status.idle": "2024-05-13T12:51:58.914051Z",
     "shell.execute_reply": "2024-05-13T12:51:58.912778Z"
    },
    "papermill": {
     "duration": 0.104118,
     "end_time": "2024-05-13T12:51:58.917256",
     "exception": false,
     "start_time": "2024-05-13T12:51:58.813138",
     "status": "completed"
    },
    "tags": []
   },
   "outputs": [],
   "source": [
    "dframe.dropna( inplace=True )\n",
    "nan_count_per_column = dframe.isna().sum()\n",
    "print(nan_count_per_column)"
   ]
  },
  {
   "cell_type": "code",
   "execution_count": null,
   "id": "70a7a64c",
   "metadata": {},
   "outputs": [],
   "source": [
    "# peek at current cols\n",
    "column_list = dframe.columns.tolist()\n",
    "print( column_list )\n"
   ]
  },
  {
   "cell_type": "code",
   "execution_count": null,
   "id": "c34c106f",
   "metadata": {
    "execution": {
     "iopub.execute_input": "2024-05-13T12:50:49.839016Z",
     "iopub.status.busy": "2024-05-13T12:50:49.837717Z",
     "iopub.status.idle": "2024-05-13T12:50:50.352606Z",
     "shell.execute_reply": "2024-05-13T12:50:50.351239Z"
    },
    "papermill": {
     "duration": 0.546745,
     "end_time": "2024-05-13T12:50:50.355350",
     "exception": false,
     "start_time": "2024-05-13T12:50:49.808605",
     "status": "completed"
    },
    "tags": []
   },
   "outputs": [],
   "source": [
    "# clean up text to deal with links, non-alphanumerics, URLs, whitespace, etc.\n",
    "def alphanumericize( txt: str ) -> str:\n",
    "    txt = str( txt )\n",
    "    try: \n",
    "        pattern_replacement_pairs = {\n",
    "            r'<.*?>': '',\n",
    "            r'[^a-zA-Z0-9\\s]': '',\n",
    "            #r'http?://\\S+': ' ', # not sure if any value in SA\n",
    "            #r'https?://\\S+': ' ',\n",
    "            r'\\s+': ' '\n",
    "        }\n",
    "        for pattern, replacement in pattern_replacement_pairs.items():\n",
    "            txt = REGEX.sub( pattern, replacement, txt.strip() )\n",
    "            #DEBUG print( f\"{type(txt)=} {txt=}\" )\n",
    "        return txt\n",
    "    except Exception as e:\n",
    "        print( f\"Error alphanumericizing: {e}\" )\n",
    "        return \"\"\n",
    "    return \n",
    "dframe[ 'alphanumeric' ] = dframe[ 'text' ].apply( alphanumericize )"
   ]
  },
  {
   "cell_type": "code",
   "execution_count": null,
   "id": "d01fac49",
   "metadata": {
    "execution": {
     "iopub.execute_input": "2024-05-13T12:50:50.541881Z",
     "iopub.status.busy": "2024-05-13T12:50:50.540846Z",
     "iopub.status.idle": "2024-05-13T12:50:59.982939Z",
     "shell.execute_reply": "2024-05-13T12:50:59.981817Z"
    },
    "papermill": {
     "duration": 9.476045,
     "end_time": "2024-05-13T12:50:59.986159",
     "exception": false,
     "start_time": "2024-05-13T12:50:50.510114",
     "status": "completed"
    },
    "tags": []
   },
   "outputs": [],
   "source": [
    "# tokenize the sentences so they can be processed further in the application\n",
    "def tokenize( txt:str ) -> list:\n",
    "    try:\n",
    "        return NLTK_word_tokenize( str( txt ) )\n",
    "    except Exception as e:\n",
    "        print( f\"Error tokenizing: {e}\" )\n",
    "        return \"\"\n",
    "dframe[ 'tokens' ] = dframe[ 'text' ].apply( tokenize )"
   ]
  },
  {
   "cell_type": "code",
   "execution_count": null,
   "id": "3052ce55",
   "metadata": {},
   "outputs": [],
   "source": [
    "# Take a look at the results of tokenization\n",
    "print( dframe[ 'tokens' ] )\n",
    "\n",
    "#NB currently contains , '*', fragment of URL, breaks up contractions (I've, I'd, couldn't, etc.), shows NaNs"
   ]
  },
  {
   "cell_type": "code",
   "execution_count": null,
   "id": "327bba99",
   "metadata": {
    "execution": {
     "iopub.execute_input": "2024-05-13T12:51:00.112758Z",
     "iopub.status.busy": "2024-05-13T12:51:00.111435Z",
     "iopub.status.idle": "2024-05-13T12:51:00.588829Z",
     "shell.execute_reply": "2024-05-13T12:51:00.587528Z"
    },
    "papermill": {
     "duration": 0.511312,
     "end_time": "2024-05-13T12:51:00.591699",
     "exception": false,
     "start_time": "2024-05-13T12:51:00.080387",
     "status": "completed"
    },
    "tags": []
   },
   "outputs": [],
   "source": [
    "# convert to lowercase and remove redundant space around tokens\n",
    "def normalize( txt: str ) -> str:\n",
    "    txt = str( txt )\n",
    "    try:\n",
    "        txt = REGEX.sub(r'[^\\w\\s]', '', txt.lower() )\n",
    "        txt = REGEX.sub(r'\\s+', ' ', txt).strip()\n",
    "    except Exception as e:\n",
    "        print( f\"Error normalizing: {e}\" )\n",
    "        return \"\"\n",
    "    return txt \n",
    "dframe['normalized_text'] = dframe['text'].apply( normalize )"
   ]
  },
  {
   "cell_type": "code",
   "execution_count": null,
   "id": "194458ab",
   "metadata": {
    "execution": {
     "iopub.execute_input": "2024-05-13T12:51:00.709057Z",
     "iopub.status.busy": "2024-05-13T12:51:00.708631Z",
     "iopub.status.idle": "2024-05-13T12:51:58.725425Z",
     "shell.execute_reply": "2024-05-13T12:51:58.723923Z"
    },
    "papermill": {
     "duration": 58.052962,
     "end_time": "2024-05-13T12:51:58.728405",
     "exception": false,
     "start_time": "2024-05-13T12:51:00.675443",
     "status": "completed"
    },
    "tags": []
   },
   "outputs": [],
   "source": [
    "# Remove stopwords provided by the nltk corpus\n",
    "def remove_stopwords( text: str ) -> str:\n",
    "    txt = str( txt )\n",
    "    try:\n",
    "        words = text.split()      \n",
    "        filtered_words = [ word for word in words if word.lower() not in NLTK_stopwords.words( 'english' ) ]\n",
    "        filtered_text = ' '.join( filtered_words )\n",
    "    except Exception as e:\n",
    "        print( f\"Error removing stopwords: {e}\" )\n",
    "        return \"\"\n",
    "    return filtered_text\n",
    "dframe[ 'text_without_stopwords' ] = dframe[ 'text' ].apply( remove_stopwords )"
   ]
  },
  {
   "cell_type": "code",
   "execution_count": null,
   "id": "f308cdb3",
   "metadata": {},
   "outputs": [],
   "source": [
    "# provide memory usage of columns\n",
    "dframe.memory_usage()"
   ]
  },
  {
   "cell_type": "code",
   "execution_count": null,
   "id": "e7b6a9e8",
   "metadata": {
    "execution": {
     "iopub.execute_input": "2024-05-13T12:51:59.036853Z",
     "iopub.status.busy": "2024-05-13T12:51:59.036306Z",
     "iopub.status.idle": "2024-05-13T12:51:59.489862Z",
     "shell.execute_reply": "2024-05-13T12:51:59.488446Z"
    },
    "papermill": {
     "duration": 0.487934,
     "end_time": "2024-05-13T12:51:59.492573",
     "exception": false,
     "start_time": "2024-05-13T12:51:59.004639",
     "status": "completed"
    },
    "tags": []
   },
   "outputs": [],
   "source": [
    " # Look at bar chart see counts as well as relative size\n",
    "dframe[ 'sentiment' ].value_counts().plot( kind='bar' )"
   ]
  },
  {
   "cell_type": "code",
   "execution_count": null,
   "id": "abb23429",
   "metadata": {},
   "outputs": [],
   "source": [
    "# Look at a pie graph to get relative size of three polarities\n",
    "dframe[ 'sentiment' ].value_counts().plot( kind='pie' );"
   ]
  },
  {
   "cell_type": "code",
   "execution_count": null,
   "id": "cd0c4dcd",
   "metadata": {
    "execution": {
     "iopub.execute_input": "2024-05-13T12:51:59.553029Z",
     "iopub.status.busy": "2024-05-13T12:51:59.552608Z",
     "iopub.status.idle": "2024-05-13T12:51:59.566319Z",
     "shell.execute_reply": "2024-05-13T12:51:59.564982Z"
    },
    "papermill": {
     "duration": 0.047429,
     "end_time": "2024-05-13T12:51:59.569143",
     "exception": false,
     "start_time": "2024-05-13T12:51:59.521714",
     "status": "completed"
    },
    "tags": []
   },
   "outputs": [],
   "source": [
    "# Examine the tally of neutral, positive, and negative sentiments\n",
    "dframe[ 'sentiment' ].value_counts()"
   ]
  },
  {
   "cell_type": "code",
   "execution_count": null,
   "id": "da48df43",
   "metadata": {
    "execution": {
     "iopub.execute_input": "2024-05-13T12:51:59.747091Z",
     "iopub.status.busy": "2024-05-13T12:51:59.745849Z",
     "iopub.status.idle": "2024-05-13T12:51:59.997156Z",
     "shell.execute_reply": "2024-05-13T12:51:59.995722Z"
    },
    "papermill": {
     "duration": 0.28554,
     "end_time": "2024-05-13T12:52:00.000276",
     "exception": false,
     "start_time": "2024-05-13T12:51:59.714736",
     "status": "completed"
    },
    "tags": []
   },
   "outputs": [],
   "source": [
    "#\n",
    "dframe[ 'sentiment_code' ] = dframe[ 'sentiment' ].astype( 'category' ).cat.codes\n",
    "#sentiment_distribution = dframe[ 'sentiment_code '].value_counts()\n",
    "#sentiment_distribution.plot( kind='bar' )\n",
    "MPLTLIB_pyplt.show()"
   ]
  },
  {
   "cell_type": "code",
   "execution_count": null,
   "id": "051e0ec5",
   "metadata": {},
   "outputs": [],
   "source": [
    "# inspect stopwords and punctuation here"
   ]
  },
  {
   "cell_type": "code",
   "execution_count": null,
   "id": "f7c4c6fd",
   "metadata": {
    "execution": {
     "iopub.execute_input": "2024-05-13T12:52:00.838637Z",
     "iopub.status.busy": "2024-05-13T12:52:00.837507Z",
     "iopub.status.idle": "2024-05-13T12:52:00.847281Z",
     "shell.execute_reply": "2024-05-13T12:52:00.845358Z"
    },
    "papermill": {
     "duration": 0.045124,
     "end_time": "2024-05-13T12:52:00.849924",
     "exception": false,
     "start_time": "2024-05-13T12:52:00.804800",
     "status": "completed"
    },
    "tags": []
   },
   "outputs": [],
   "source": [
    "# use lancaster stemmer\n",
    "stuff_to_be_removed = list( NLTK_stopwords.words( 'english' ) ) + list( STR_punctuation )\n",
    "stemmer = NLTK_lancaster_stemer()\n",
    "text_list = dframe[ 'text' ].tolist()\n",
    "print( len( text_list ) )\n",
    "#for each_txt\n",
    "print( text_list[ 1 ] )"
   ]
  },
  {
   "cell_type": "code",
   "execution_count": null,
   "id": "634d1700",
   "metadata": {
    "execution": {
     "iopub.execute_input": "2024-05-13T12:52:00.972172Z",
     "iopub.status.busy": "2024-05-13T12:52:00.971430Z",
     "iopub.status.idle": "2024-05-13T12:52:01.902721Z",
     "shell.execute_reply": "2024-05-13T12:52:01.901659Z"
    },
    "papermill": {
     "duration": 0.965502,
     "end_time": "2024-05-13T12:52:01.905188",
     "exception": false,
     "start_time": "2024-05-13T12:52:00.939686",
     "status": "completed"
    },
    "tags": []
   },
   "outputs": [],
   "source": [
    "# Show word frequency data\n",
    "word_frq = NLTK_freq_dist( NLTK_word_tokenize( ' '.join(dframe[ 'sentiment' ] ) ) )\n",
    "MPLTLIB_pyplt.figure( figsize=( 10, 6 ) )\n",
    "word_frq.plot( 20, cumulative=False )\n",
    "MPLTLIB_pyplt.title( 'Word Frequency Distribution' )\n",
    "MPLTLIB_pyplt.xlabel( 'Word')\n",
    "MPLTLIB_pyplt.ylabel( 'Frequency' )\n",
    "MPLTLIB_pyplt.show()"
   ]
  },
  {
   "cell_type": "code",
   "execution_count": null,
   "id": "f5e4b66e",
   "metadata": {
    "execution": {
     "iopub.execute_input": "2024-05-13T12:52:02.109993Z",
     "iopub.status.busy": "2024-05-13T12:52:02.109472Z",
     "iopub.status.idle": "2024-05-13T12:52:02.132619Z",
     "shell.execute_reply": "2024-05-13T12:52:02.131191Z"
    },
    "papermill": {
     "duration": 0.06054,
     "end_time": "2024-05-13T12:52:02.135300",
     "exception": false,
     "start_time": "2024-05-13T12:52:02.074760",
     "status": "completed"
    },
    "tags": []
   },
   "outputs": [],
   "source": [
    "# Why another DataFrame?\n",
    "final_corpus = dframe[ 'text' ].astype( str ).tolist()\n",
    "data_eda = PNDS.DataFrame()\n",
    "data_eda[ 'text' ] = final_corpus\n",
    "data_eda[ 'sentiment' ] = dframe[ 'sentiment' ].values\n",
    "data_eda.head()"
   ]
  },
  {
   "cell_type": "code",
   "execution_count": null,
   "id": "9dbfacc4",
   "metadata": {
    "execution": {
     "iopub.execute_input": "2024-05-13T12:52:02.204785Z",
     "iopub.status.busy": "2024-05-13T12:52:02.203315Z",
     "iopub.status.idle": "2024-05-13T12:52:02.248307Z",
     "shell.execute_reply": "2024-05-13T12:52:02.246723Z"
    },
    "papermill": {
     "duration": 0.083406,
     "end_time": "2024-05-13T12:52:02.251521",
     "exception": false,
     "start_time": "2024-05-13T12:52:02.168115",
     "status": "completed"
    },
    "tags": []
   },
   "outputs": [],
   "source": [
    "# Why is this data even used? Should I drop this?\n",
    "dframe[ 'Time of Tweet' ] = dframe[ 'Time of Tweet' ].astype( 'category' ).cat.codes\n",
    "dframe[ 'Country' ] = dframe[ 'Country' ].astype( 'category' ).cat.codes\n",
    "dframe[ 'Age of User' ]=dframe[ 'Age of User' ].replace( {'0-20':18,'21-30':25,'31-45':38,'46-60':53,'60-70':65,'70-100':80} )"
   ]
  },
  {
   "cell_type": "code",
   "execution_count": null,
   "id": "e5f286bc",
   "metadata": {
    "execution": {
     "iopub.execute_input": "2024-05-13T12:52:02.602647Z",
     "iopub.status.busy": "2024-05-13T12:52:02.601636Z",
     "iopub.status.idle": "2024-05-13T12:52:03.224224Z",
     "shell.execute_reply": "2024-05-13T12:52:03.222680Z"
    },
    "papermill": {
     "duration": 0.661004,
     "end_time": "2024-05-13T12:52:03.227789",
     "exception": false,
     "start_time": "2024-05-13T12:52:02.566785",
     "status": "completed"
    },
    "tags": []
   },
   "outputs": [],
   "source": [
    "# This seems redundant\n",
    "def wp( text ):\n",
    "    text = REGEX.sub( 'https?://\\S+|www\\.\\S+', '', text )\n",
    "    text = REGEX.sub( '<.*?>+', '', text )\n",
    "    text = REGEX.sub( '[%s]' % REGEX.escape( string.PUNCT ), '', text)\n",
    "    text = REGEX.sub( '\\n', '', text )\n",
    "    text = REGEX.sub( '\\w*\\d\\w*', '', text )\n",
    "    return text\n",
    "dframe[ 'selected_text' ] = dframe[ 'selected_text' ].apply( wp )"
   ]
  },
  {
   "cell_type": "code",
   "execution_count": null,
   "id": "578858bd",
   "metadata": {
    "execution": {
     "iopub.execute_input": "2024-05-13T12:52:03.438296Z",
     "iopub.status.busy": "2024-05-13T12:52:03.437837Z",
     "iopub.status.idle": "2024-05-13T12:52:03.453586Z",
     "shell.execute_reply": "2024-05-13T12:52:03.452513Z"
    },
    "papermill": {
     "duration": 0.054308,
     "end_time": "2024-05-13T12:52:03.456612",
     "exception": false,
     "start_time": "2024-05-13T12:52:03.402304",
     "status": "completed"
    },
    "tags": []
   },
   "outputs": [],
   "source": [
    "#\n",
    "X = dframe[ 'selected_text' ]\n",
    "Y = dframe[ 'sentiment' ]\n",
    "X_train, X_test, Y_train, Y_test = SKLN_train_test_split( X, Y, test_size=0.2, random_state=42 )"
   ]
  },
  {
   "cell_type": "code",
   "execution_count": null,
   "id": "adc8a432",
   "metadata": {
    "execution": {
     "iopub.execute_input": "2024-05-13T12:52:03.592967Z",
     "iopub.status.busy": "2024-05-13T12:52:03.591926Z",
     "iopub.status.idle": "2024-05-13T12:52:04.051905Z",
     "shell.execute_reply": "2024-05-13T12:52:04.050108Z"
    },
    "papermill": {
     "duration": 0.499084,
     "end_time": "2024-05-13T12:52:04.055275",
     "exception": false,
     "start_time": "2024-05-13T12:52:03.556191",
     "status": "completed"
    },
    "tags": []
   },
   "outputs": [],
   "source": [
    "# \n",
    "vectorizer = SKLN_tfidf_vectorizer()\n",
    "XV_train = vectorizer.fit_transform( X_train )\n",
    "XV_test = vectorizer.transform( X_test )"
   ]
  },
  {
   "cell_type": "code",
   "execution_count": null,
   "id": "71e76528",
   "metadata": {
    "execution": {
     "iopub.execute_input": "2024-05-13T12:52:04.132709Z",
     "iopub.status.busy": "2024-05-13T12:52:04.132274Z",
     "iopub.status.idle": "2024-05-13T12:52:04.148456Z",
     "shell.execute_reply": "2024-05-13T12:52:04.146870Z"
    },
    "papermill": {
     "duration": 0.060343,
     "end_time": "2024-05-13T12:52:04.151109",
     "exception": false,
     "start_time": "2024-05-13T12:52:04.090766",
     "status": "completed"
    },
    "tags": []
   },
   "outputs": [],
   "source": [
    "#\n",
    "score_baseline = dframe[ 'sentiment' ].value_counts( normalize=True ).max()\n",
    "score_baseline"
   ]
  },
  {
   "cell_type": "code",
   "execution_count": null,
   "id": "43bb14fb",
   "metadata": {
    "execution": {
     "iopub.execute_input": "2024-05-13T12:52:04.285445Z",
     "iopub.status.busy": "2024-05-13T12:52:04.284531Z",
     "iopub.status.idle": "2024-05-13T12:52:07.334187Z",
     "shell.execute_reply": "2024-05-13T12:52:07.332258Z"
    },
    "papermill": {
     "duration": 3.087387,
     "end_time": "2024-05-13T12:52:07.337293",
     "exception": false,
     "start_time": "2024-05-13T12:52:04.249906",
     "status": "completed"
    },
    "tags": []
   },
   "outputs": [],
   "source": [
    "#\n",
    "lr = SKLN_logistic_regression( n_jobs=-1 )\n",
    "lr.fit( XV_train,Y_train )"
   ]
  },
  {
   "cell_type": "code",
   "execution_count": null,
   "id": "e5a6a606",
   "metadata": {
    "execution": {
     "iopub.execute_input": "2024-05-13T12:52:07.406924Z",
     "iopub.status.busy": "2024-05-13T12:52:07.406457Z",
     "iopub.status.idle": "2024-05-13T12:52:07.416290Z",
     "shell.execute_reply": "2024-05-13T12:52:07.414691Z"
    },
    "papermill": {
     "duration": 0.048546,
     "end_time": "2024-05-13T12:52:07.419476",
     "exception": false,
     "start_time": "2024-05-13T12:52:07.370930",
     "status": "completed"
    },
    "tags": []
   },
   "outputs": [],
   "source": [
    "#\n",
    "pred_lr = lr.predict( XV_test )"
   ]
  },
  {
   "cell_type": "code",
   "execution_count": null,
   "id": "f6e16ca1",
   "metadata": {
    "execution": {
     "iopub.execute_input": "2024-05-13T12:52:07.491472Z",
     "iopub.status.busy": "2024-05-13T12:52:07.490975Z",
     "iopub.status.idle": "2024-05-13T12:52:07.511973Z",
     "shell.execute_reply": "2024-05-13T12:52:07.510339Z"
    },
    "papermill": {
     "duration": 0.059906,
     "end_time": "2024-05-13T12:52:07.514787",
     "exception": false,
     "start_time": "2024-05-13T12:52:07.454881",
     "status": "completed"
    },
    "tags": []
   },
   "outputs": [],
   "source": [
    "#\n",
    "score_lr = SKLN_accuracy_score( Y_test, pred_lr )\n",
    "print( score_lr )"
   ]
  },
  {
   "cell_type": "code",
   "execution_count": null,
   "id": "84629405",
   "metadata": {
    "execution": {
     "iopub.execute_input": "2024-05-13T12:52:07.588683Z",
     "iopub.status.busy": "2024-05-13T12:52:07.588021Z",
     "iopub.status.idle": "2024-05-13T12:52:07.929789Z",
     "shell.execute_reply": "2024-05-13T12:52:07.928406Z"
    },
    "papermill": {
     "duration": 0.382472,
     "end_time": "2024-05-13T12:52:07.932741",
     "exception": false,
     "start_time": "2024-05-13T12:52:07.550269",
     "status": "completed"
    },
    "tags": []
   },
   "outputs": [],
   "source": [
    "# not defined; prob sklern\n",
    "print( SKLN_classification_report( Y_test, pred_lr ) )"
   ]
  },
  {
   "cell_type": "code",
   "execution_count": null,
   "id": "0868f65a",
   "metadata": {
    "execution": {
     "iopub.execute_input": "2024-05-13T12:52:08.001924Z",
     "iopub.status.busy": "2024-05-13T12:52:08.001453Z",
     "iopub.status.idle": "2024-05-13T12:52:08.467417Z",
     "shell.execute_reply": "2024-05-13T12:52:08.465839Z"
    },
    "papermill": {
     "duration": 0.503914,
     "end_time": "2024-05-13T12:52:08.470231",
     "exception": false,
     "start_time": "2024-05-13T12:52:07.966317",
     "status": "completed"
    },
    "tags": []
   },
   "outputs": [],
   "source": [
    "# \n",
    "SKLN_confusion_matrix_display.from_predictions( Y_test, pred_lr )"
   ]
  },
  {
   "cell_type": "code",
   "execution_count": null,
   "id": "42b0eb9c",
   "metadata": {
    "execution": {
     "iopub.execute_input": "2024-05-13T12:52:08.631741Z",
     "iopub.status.busy": "2024-05-13T12:52:08.630978Z",
     "iopub.status.idle": "2024-05-13T12:52:14.388580Z",
     "shell.execute_reply": "2024-05-13T12:52:14.387236Z"
    },
    "papermill": {
     "duration": 5.800582,
     "end_time": "2024-05-13T12:52:14.391494",
     "exception": false,
     "start_time": "2024-05-13T12:52:08.590912",
     "status": "completed"
    },
    "tags": []
   },
   "outputs": [],
   "source": [
    "# \n",
    "dt = SKLN_decision_tree_classifier()\n",
    "dt.fit( XV_train, Y_train )"
   ]
  },
  {
   "cell_type": "code",
   "execution_count": null,
   "id": "cb6f8ce2",
   "metadata": {
    "execution": {
     "iopub.execute_input": "2024-05-13T12:52:14.472065Z",
     "iopub.status.busy": "2024-05-13T12:52:14.470746Z",
     "iopub.status.idle": "2024-05-13T12:52:14.484408Z",
     "shell.execute_reply": "2024-05-13T12:52:14.482844Z"
    },
    "papermill": {
     "duration": 0.057387,
     "end_time": "2024-05-13T12:52:14.487769",
     "exception": false,
     "start_time": "2024-05-13T12:52:14.430382",
     "status": "completed"
    },
    "tags": []
   },
   "outputs": [],
   "source": [
    "# \n",
    "pred_dt = dt.predict(XV_test)"
   ]
  },
  {
   "cell_type": "code",
   "execution_count": null,
   "id": "0f38f9a9",
   "metadata": {
    "execution": {
     "iopub.execute_input": "2024-05-13T12:52:14.568353Z",
     "iopub.status.busy": "2024-05-13T12:52:14.567897Z",
     "iopub.status.idle": "2024-05-13T12:52:14.594199Z",
     "shell.execute_reply": "2024-05-13T12:52:14.592405Z"
    },
    "papermill": {
     "duration": 0.070519,
     "end_time": "2024-05-13T12:52:14.597257",
     "exception": false,
     "start_time": "2024-05-13T12:52:14.526738",
     "status": "completed"
    },
    "tags": []
   },
   "outputs": [],
   "source": [
    "# \n",
    "score_dt = dt.score( XV_test, Y_test )\n",
    "score_dt"
   ]
  },
  {
   "cell_type": "code",
   "execution_count": null,
   "id": "674fefe3",
   "metadata": {
    "execution": {
     "iopub.execute_input": "2024-05-13T12:52:14.678446Z",
     "iopub.status.busy": "2024-05-13T12:52:14.677766Z",
     "iopub.status.idle": "2024-05-13T12:52:14.974763Z",
     "shell.execute_reply": "2024-05-13T12:52:14.972698Z"
    },
    "papermill": {
     "duration": 0.340941,
     "end_time": "2024-05-13T12:52:14.977819",
     "exception": false,
     "start_time": "2024-05-13T12:52:14.636878",
     "status": "completed"
    },
    "tags": []
   },
   "outputs": [],
   "source": [
    "#\n",
    "print( SKLN_classification_report( Y_test, pred_dt ) )"
   ]
  },
  {
   "cell_type": "code",
   "execution_count": null,
   "id": "e3187f4f",
   "metadata": {
    "execution": {
     "iopub.execute_input": "2024-05-13T12:52:15.058615Z",
     "iopub.status.busy": "2024-05-13T12:52:15.057998Z",
     "iopub.status.idle": "2024-05-13T12:52:15.505758Z",
     "shell.execute_reply": "2024-05-13T12:52:15.504479Z"
    },
    "papermill": {
     "duration": 0.491196,
     "end_time": "2024-05-13T12:52:15.508475",
     "exception": false,
     "start_time": "2024-05-13T12:52:15.017279",
     "status": "completed"
    },
    "tags": []
   },
   "outputs": [],
   "source": [
    "#\n",
    "from sklearn.metrics import ConfusionMatrixDisplay\n",
    "\n",
    "\n",
    "ConfusionMatrixDisplay.from_predictions( Y_test, pred_dt )"
   ]
  },
  {
   "cell_type": "code",
   "execution_count": null,
   "id": "73137bb6",
   "metadata": {
    "execution": {
     "iopub.execute_input": "2024-05-13T12:52:15.657557Z",
     "iopub.status.busy": "2024-05-13T12:52:15.657014Z",
     "iopub.status.idle": "2024-05-13T12:52:59.279013Z",
     "shell.execute_reply": "2024-05-13T12:52:59.277245Z"
    },
    "papermill": {
     "duration": 43.69966,
     "end_time": "2024-05-13T12:52:59.317786",
     "exception": false,
     "start_time": "2024-05-13T12:52:15.618126",
     "status": "completed"
    },
    "tags": []
   },
   "outputs": [],
   "source": [
    "#\n",
    "from sklearn.ensemble import RandomForestClassifier\n",
    "\n",
    "rfc = RandomForestClassifier( random_state=0 )\n",
    "rfc.fit( XV_train, Y_train )"
   ]
  },
  {
   "cell_type": "code",
   "execution_count": null,
   "id": "36fe67e1",
   "metadata": {
    "execution": {
     "iopub.execute_input": "2024-05-13T12:52:59.394139Z",
     "iopub.status.busy": "2024-05-13T12:52:59.393665Z",
     "iopub.status.idle": "2024-05-13T12:53:00.041833Z",
     "shell.execute_reply": "2024-05-13T12:53:00.039932Z"
    },
    "papermill": {
     "duration": 0.69025,
     "end_time": "2024-05-13T12:53:00.045548",
     "exception": false,
     "start_time": "2024-05-13T12:52:59.355298",
     "status": "completed"
    },
    "tags": []
   },
   "outputs": [],
   "source": [
    "# \n",
    "pred_rfc = rfc.predict( XV_test )"
   ]
  },
  {
   "cell_type": "code",
   "execution_count": null,
   "id": "25b31f3b",
   "metadata": {
    "execution": {
     "iopub.execute_input": "2024-05-13T12:53:00.119572Z",
     "iopub.status.busy": "2024-05-13T12:53:00.119167Z",
     "iopub.status.idle": "2024-05-13T12:53:00.791777Z",
     "shell.execute_reply": "2024-05-13T12:53:00.790267Z"
    },
    "papermill": {
     "duration": 0.713037,
     "end_time": "2024-05-13T12:53:00.794797",
     "exception": false,
     "start_time": "2024-05-13T12:53:00.081760",
     "status": "completed"
    },
    "tags": []
   },
   "outputs": [],
   "source": [
    "# \n",
    "score_rfc = rfc.score( XV_test, Y_test )\n",
    "score_rfc"
   ]
  },
  {
   "cell_type": "code",
   "execution_count": null,
   "id": "fceff329",
   "metadata": {
    "execution": {
     "iopub.execute_input": "2024-05-13T12:53:00.874349Z",
     "iopub.status.busy": "2024-05-13T12:53:00.873901Z",
     "iopub.status.idle": "2024-05-13T12:53:01.160954Z",
     "shell.execute_reply": "2024-05-13T12:53:01.159748Z"
    },
    "papermill": {
     "duration": 0.33063,
     "end_time": "2024-05-13T12:53:01.164426",
     "exception": false,
     "start_time": "2024-05-13T12:53:00.833796",
     "status": "completed"
    },
    "tags": []
   },
   "outputs": [],
   "source": [
    "#\n",
    "print( SKLN_classification_report( Y_test, pred_rfc) )"
   ]
  },
  {
   "cell_type": "code",
   "execution_count": null,
   "id": "c92709de",
   "metadata": {
    "execution": {
     "iopub.execute_input": "2024-05-13T12:53:01.250005Z",
     "iopub.status.busy": "2024-05-13T12:53:01.249547Z",
     "iopub.status.idle": "2024-05-13T12:53:01.681891Z",
     "shell.execute_reply": "2024-05-13T12:53:01.680786Z"
    },
    "papermill": {
     "duration": 0.476356,
     "end_time": "2024-05-13T12:53:01.684477",
     "exception": false,
     "start_time": "2024-05-13T12:53:01.208121",
     "status": "completed"
    },
    "tags": []
   },
   "outputs": [],
   "source": [
    "# \n",
    "SKLN_confusion_matrix_display.from_predictions( Y_test, pred_rfc )"
   ]
  },
  {
   "cell_type": "code",
   "execution_count": null,
   "id": "207e249b",
   "metadata": {
    "execution": {
     "iopub.execute_input": "2024-05-13T12:53:01.850803Z",
     "iopub.status.busy": "2024-05-13T12:53:01.850277Z",
     "iopub.status.idle": "2024-05-13T12:53:01.856188Z",
     "shell.execute_reply": "2024-05-13T12:53:01.855236Z"
    },
    "papermill": {
     "duration": 0.051154,
     "end_time": "2024-05-13T12:53:01.858914",
     "exception": false,
     "start_time": "2024-05-13T12:53:01.807760",
     "status": "completed"
    },
    "tags": []
   },
   "outputs": [],
   "source": [
    "#\n",
    "print( f'Baseline model = {score_baseline}\\n',\n",
    "        'Logistic regression = {score_lr}\\n',\n",
    "        'Decision Tree Classification = {score_dt}\\n',\n",
    "        'Random Forest Classifier = {score_rfc}' )"
   ]
  },
  {
   "cell_type": "code",
   "execution_count": null,
   "id": "95134c52",
   "metadata": {
    "execution": {
     "iopub.execute_input": "2024-05-13T12:53:02.025990Z",
     "iopub.status.busy": "2024-05-13T12:53:02.025021Z",
     "iopub.status.idle": "2024-05-13T12:53:02.034058Z",
     "shell.execute_reply": "2024-05-13T12:53:02.032963Z"
    },
    "papermill": {
     "duration": 0.056131,
     "end_time": "2024-05-13T12:53:02.037290",
     "exception": false,
     "start_time": "2024-05-13T12:53:01.981159",
     "status": "completed"
    },
    "tags": []
   },
   "outputs": [],
   "source": [
    "#\n",
    "def label_sentiment(n):\n",
    "    if n==0:\n",
    "        return \"negative sentiment\"\n",
    "    elif n==1:\n",
    "        return \"neutral sentiment\"\n",
    "    elif n==2:\n",
    "        return \"positive sentiment\"\n",
    "    else:\n",
    "        assert n > 3, \"illegal sentiment classification\"\n",
    "    \n",
    "def test_item( news ):\n",
    "    testing_news = { 'text': [ news ] }\n",
    "    new_def_test = PNDS.DataFrame( testing_news )\n",
    "    new_def_test[ 'text' ] = new_def_test[ 'text' ].apply( wp ) \n",
    "    new_x_test = new_def_test[ 'text' ]\n",
    "    new_xv_test = vectorizer.transform( new_x_test )\n",
    "    pred_lr = lr.predict( new_xv_test )\n",
    "    pred_dt = dt.predict( new_xv_test ) # unused\n",
    "    pred_rfc = rfc.predict( new_xv_test ) # unused\n",
    "\n",
    "    return print( ( label_sentiment( pred_lr[1] ) ) )"
   ]
  },
  {
   "cell_type": "code",
   "execution_count": null,
   "id": "625b2f67",
   "metadata": {
    "execution": {
     "iopub.execute_input": "2024-05-13T12:53:02.209254Z",
     "iopub.status.busy": "2024-05-13T12:53:02.208538Z",
     "iopub.status.idle": "2024-05-13T12:53:02.225204Z",
     "shell.execute_reply": "2024-05-13T12:53:02.223975Z"
    },
    "papermill": {
     "duration": 0.065831,
     "end_time": "2024-05-13T12:53:02.228598",
     "exception": false,
     "start_time": "2024-05-13T12:53:02.162767",
     "status": "completed"
    },
    "tags": []
   },
   "outputs": [],
   "source": [
    "#\n",
    "def to_upper( txt ):\n",
    "    return txt.upper()\n",
    "\n",
    "def test_item( news ):\n",
    "    testing_news = { \"text\": [ news ] }\n",
    "    new_def_test = PNDS.DataFrame( testing_news )\n",
    "    new_def_test[ 'text' ] = new_def_test[ 'text' ].apply( to_upper ) \n",
    "    new_x_test = new_def_test[ 'text' ]\n",
    "    new_xv_test = vectorizer.transform( new_x_test )\n",
    "    return new_xv_test\n",
    "\n",
    "test_txt = \"I am Sad\"\n",
    "test_item( test_txt )"
   ]
  }
 ],
 "metadata": {
  "kaggle": {
   "accelerator": "none",
   "dataSources": [
    {
     "datasetId": 989445,
     "sourceId": 1808590,
     "sourceType": "datasetVersion"
    }
   ],
   "dockerImageVersionId": 30664,
   "isGpuEnabled": false,
   "isInternetEnabled": true,
   "language": "python",
   "sourceType": "notebook"
  },
  "kernelspec": {
   "display_name": "Python 3",
   "language": "python",
   "name": "python3"
  },
  "language_info": {
   "codemirror_mode": {
    "name": "ipython",
    "version": 3
   },
   "file_extension": ".py",
   "mimetype": "text/x-python",
   "name": "python",
   "nbconvert_exporter": "python",
   "pygments_lexer": "ipython3",
   "version": "3.12.4"
  },
  "papermill": {
   "default_parameters": {},
   "duration": 144.350918,
   "end_time": "2024-05-13T12:53:05.047804",
   "environment_variables": {},
   "exception": null,
   "input_path": "__notebook__.ipynb",
   "output_path": "__notebook__.ipynb",
   "parameters": {},
   "start_time": "2024-05-13T12:50:40.696886",
   "version": "2.5.0"
  }
 },
 "nbformat": 4,
 "nbformat_minor": 5
}
